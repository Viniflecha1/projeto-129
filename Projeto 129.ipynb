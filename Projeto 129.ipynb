{
  "nbformat": 4,
  "nbformat_minor": 0,
  "metadata": {
    "colab": {
      "name": "PRO-C129-Project-Solution(pt).ipynb",
      "provenance": [],
      "collapsed_sections": []
    },
    "kernelspec": {
      "name": "python3",
      "display_name": "Python 3"
    },
    "language_info": {
      "name": "python"
    }
  },
  "cells": [
    {
      "cell_type": "markdown",
      "source": [
        "*Observação: os dados foram coletados da página da Wikipedia e podem mudar no futuro. Portanto, os dados podem variar!*"
      ],
      "metadata": {
        "id": "odzHO6H7wG6a"
      }
    },
    {
      "cell_type": "code",
      "source": [
        "!git clone https://github.com/ByjusBrazil/PRO_1-1_C129_StarsDatasetCSVs"
      ],
      "metadata": {
        "colab": {
          "base_uri": "https://localhost:8080/"
        },
        "id": "TOKwfceIX-BG",
        "outputId": "7779fe50-62ee-4518-e3ec-61022e8871ba"
      },
      "execution_count": null,
      "outputs": [
        {
          "output_type": "stream",
          "name": "stdout",
          "text": [
            "Cloning into 'PRO-Stars-Dataset-CSVs'...\n",
            "remote: Enumerating objects: 21, done.\u001b[K\n",
            "remote: Counting objects: 100% (21/21), done.\u001b[K\n",
            "remote: Compressing objects: 100% (12/12), done.\u001b[K\n",
            "remote: Total 21 (delta 7), reused 13 (delta 5), pack-reused 0\u001b[K\n",
            "Unpacking objects: 100% (21/21), done.\n"
          ]
        }
      ]
    },
    {
      "cell_type": "code",
      "execution_count": null,
      "metadata": {
        "id": "7OAgh0rI7rOG",
        "colab": {
          "base_uri": "https://localhost:8080/",
          "height": 363
        },
        "outputId": "2f03c46a-c7b7-412a-8a97-06e3b7e530a1"
      },
      "outputs": [
        {
          "output_type": "execute_result",
          "data": {
            "text/plain": [
              "   id                      Star_name  Distance Mass  Radius\n",
              "0   0  SDSS J000013.54+255418.6 [de]      46.1   48    0.99\n",
              "1   1        2MASS J00040288-6410358     192.0   19    1.63\n",
              "2   2                      LHS 102BC       NaN  NaN     NaN\n",
              "3   3        2MASS J00242463-0158201      37.7   79    1.09\n",
              "4   4      2MASS J00250365+4759191AB     143.0  NaN     NaN\n",
              "5   5        2MASS J00274197+0503417     236.0   31    1.44\n",
              "6   6        2MASS J00275592+2219328      46.9  NaN     NaN\n",
              "7   7         2MASSW J0030300-145033      87.2   54    0.98\n",
              "8   8   2MASS J00332386-1521309 [de]     131.0   29    1.43\n",
              "9   9        2MASS J00345157+0523050      31.0   42    0.94"
            ],
            "text/html": [
              "\n",
              "  <div id=\"df-14dfa24b-fb83-4e97-887e-a6b6e4c98298\">\n",
              "    <div class=\"colab-df-container\">\n",
              "      <div>\n",
              "<style scoped>\n",
              "    .dataframe tbody tr th:only-of-type {\n",
              "        vertical-align: middle;\n",
              "    }\n",
              "\n",
              "    .dataframe tbody tr th {\n",
              "        vertical-align: top;\n",
              "    }\n",
              "\n",
              "    .dataframe thead th {\n",
              "        text-align: right;\n",
              "    }\n",
              "</style>\n",
              "<table border=\"1\" class=\"dataframe\">\n",
              "  <thead>\n",
              "    <tr style=\"text-align: right;\">\n",
              "      <th></th>\n",
              "      <th>id</th>\n",
              "      <th>Star_name</th>\n",
              "      <th>Distance</th>\n",
              "      <th>Mass</th>\n",
              "      <th>Radius</th>\n",
              "    </tr>\n",
              "  </thead>\n",
              "  <tbody>\n",
              "    <tr>\n",
              "      <th>0</th>\n",
              "      <td>0</td>\n",
              "      <td>SDSS J000013.54+255418.6 [de]</td>\n",
              "      <td>46.1</td>\n",
              "      <td>48</td>\n",
              "      <td>0.99</td>\n",
              "    </tr>\n",
              "    <tr>\n",
              "      <th>1</th>\n",
              "      <td>1</td>\n",
              "      <td>2MASS J00040288-6410358</td>\n",
              "      <td>192.0</td>\n",
              "      <td>19</td>\n",
              "      <td>1.63</td>\n",
              "    </tr>\n",
              "    <tr>\n",
              "      <th>2</th>\n",
              "      <td>2</td>\n",
              "      <td>LHS 102BC</td>\n",
              "      <td>NaN</td>\n",
              "      <td>NaN</td>\n",
              "      <td>NaN</td>\n",
              "    </tr>\n",
              "    <tr>\n",
              "      <th>3</th>\n",
              "      <td>3</td>\n",
              "      <td>2MASS J00242463-0158201</td>\n",
              "      <td>37.7</td>\n",
              "      <td>79</td>\n",
              "      <td>1.09</td>\n",
              "    </tr>\n",
              "    <tr>\n",
              "      <th>4</th>\n",
              "      <td>4</td>\n",
              "      <td>2MASS J00250365+4759191AB</td>\n",
              "      <td>143.0</td>\n",
              "      <td>NaN</td>\n",
              "      <td>NaN</td>\n",
              "    </tr>\n",
              "    <tr>\n",
              "      <th>5</th>\n",
              "      <td>5</td>\n",
              "      <td>2MASS J00274197+0503417</td>\n",
              "      <td>236.0</td>\n",
              "      <td>31</td>\n",
              "      <td>1.44</td>\n",
              "    </tr>\n",
              "    <tr>\n",
              "      <th>6</th>\n",
              "      <td>6</td>\n",
              "      <td>2MASS J00275592+2219328</td>\n",
              "      <td>46.9</td>\n",
              "      <td>NaN</td>\n",
              "      <td>NaN</td>\n",
              "    </tr>\n",
              "    <tr>\n",
              "      <th>7</th>\n",
              "      <td>7</td>\n",
              "      <td>2MASSW J0030300-145033</td>\n",
              "      <td>87.2</td>\n",
              "      <td>54</td>\n",
              "      <td>0.98</td>\n",
              "    </tr>\n",
              "    <tr>\n",
              "      <th>8</th>\n",
              "      <td>8</td>\n",
              "      <td>2MASS J00332386-1521309 [de]</td>\n",
              "      <td>131.0</td>\n",
              "      <td>29</td>\n",
              "      <td>1.43</td>\n",
              "    </tr>\n",
              "    <tr>\n",
              "      <th>9</th>\n",
              "      <td>9</td>\n",
              "      <td>2MASS J00345157+0523050</td>\n",
              "      <td>31.0</td>\n",
              "      <td>42</td>\n",
              "      <td>0.94</td>\n",
              "    </tr>\n",
              "  </tbody>\n",
              "</table>\n",
              "</div>\n",
              "      <button class=\"colab-df-convert\" onclick=\"convertToInteractive('df-14dfa24b-fb83-4e97-887e-a6b6e4c98298')\"\n",
              "              title=\"Convert this dataframe to an interactive table.\"\n",
              "              style=\"display:none;\">\n",
              "        \n",
              "  <svg xmlns=\"http://www.w3.org/2000/svg\" height=\"24px\"viewBox=\"0 0 24 24\"\n",
              "       width=\"24px\">\n",
              "    <path d=\"M0 0h24v24H0V0z\" fill=\"none\"/>\n",
              "    <path d=\"M18.56 5.44l.94 2.06.94-2.06 2.06-.94-2.06-.94-.94-2.06-.94 2.06-2.06.94zm-11 1L8.5 8.5l.94-2.06 2.06-.94-2.06-.94L8.5 2.5l-.94 2.06-2.06.94zm10 10l.94 2.06.94-2.06 2.06-.94-2.06-.94-.94-2.06-.94 2.06-2.06.94z\"/><path d=\"M17.41 7.96l-1.37-1.37c-.4-.4-.92-.59-1.43-.59-.52 0-1.04.2-1.43.59L10.3 9.45l-7.72 7.72c-.78.78-.78 2.05 0 2.83L4 21.41c.39.39.9.59 1.41.59.51 0 1.02-.2 1.41-.59l7.78-7.78 2.81-2.81c.8-.78.8-2.07 0-2.86zM5.41 20L4 18.59l7.72-7.72 1.47 1.35L5.41 20z\"/>\n",
              "  </svg>\n",
              "      </button>\n",
              "      \n",
              "  <style>\n",
              "    .colab-df-container {\n",
              "      display:flex;\n",
              "      flex-wrap:wrap;\n",
              "      gap: 12px;\n",
              "    }\n",
              "\n",
              "    .colab-df-convert {\n",
              "      background-color: #E8F0FE;\n",
              "      border: none;\n",
              "      border-radius: 50%;\n",
              "      cursor: pointer;\n",
              "      display: none;\n",
              "      fill: #1967D2;\n",
              "      height: 32px;\n",
              "      padding: 0 0 0 0;\n",
              "      width: 32px;\n",
              "    }\n",
              "\n",
              "    .colab-df-convert:hover {\n",
              "      background-color: #E2EBFA;\n",
              "      box-shadow: 0px 1px 2px rgba(60, 64, 67, 0.3), 0px 1px 3px 1px rgba(60, 64, 67, 0.15);\n",
              "      fill: #174EA6;\n",
              "    }\n",
              "\n",
              "    [theme=dark] .colab-df-convert {\n",
              "      background-color: #3B4455;\n",
              "      fill: #D2E3FC;\n",
              "    }\n",
              "\n",
              "    [theme=dark] .colab-df-convert:hover {\n",
              "      background-color: #434B5C;\n",
              "      box-shadow: 0px 1px 3px 1px rgba(0, 0, 0, 0.15);\n",
              "      filter: drop-shadow(0px 1px 2px rgba(0, 0, 0, 0.3));\n",
              "      fill: #FFFFFF;\n",
              "    }\n",
              "  </style>\n",
              "\n",
              "      <script>\n",
              "        const buttonEl =\n",
              "          document.querySelector('#df-14dfa24b-fb83-4e97-887e-a6b6e4c98298 button.colab-df-convert');\n",
              "        buttonEl.style.display =\n",
              "          google.colab.kernel.accessAllowed ? 'block' : 'none';\n",
              "\n",
              "        async function convertToInteractive(key) {\n",
              "          const element = document.querySelector('#df-14dfa24b-fb83-4e97-887e-a6b6e4c98298');\n",
              "          const dataTable =\n",
              "            await google.colab.kernel.invokeFunction('convertToInteractive',\n",
              "                                                     [key], {});\n",
              "          if (!dataTable) return;\n",
              "\n",
              "          const docLinkHtml = 'Like what you see? Visit the ' +\n",
              "            '<a target=\"_blank\" href=https://colab.research.google.com/notebooks/data_table.ipynb>data table notebook</a>'\n",
              "            + ' to learn more about interactive tables.';\n",
              "          element.innerHTML = '';\n",
              "          dataTable['output_type'] = 'display_data';\n",
              "          await google.colab.output.renderOutput(dataTable, element);\n",
              "          const docLink = document.createElement('div');\n",
              "          docLink.innerHTML = docLinkHtml;\n",
              "          element.appendChild(docLink);\n",
              "        }\n",
              "      </script>\n",
              "    </div>\n",
              "  </div>\n",
              "  "
            ]
          },
          "metadata": {},
          "execution_count": 2
        }
      ],
      "source": [
        "import pandas as pd\n",
        "\n",
        "df = pd.read_csv(\"/content/PRO_1-1_C129_StarsDatasetCSVs/dwarf_stars.csv\")\n",
        "df.head(10)"
      ]
    },
    {
      "cell_type": "code",
      "source": [
        "df.shape"
      ],
      "metadata": {
        "colab": {
          "base_uri": "https://localhost:8080/"
        },
        "id": "IJ39fA-LDiq5",
        "outputId": "bed15ec5-e1e1-4e07-a9b5-0532addcbd3a"
      },
      "execution_count": null,
      "outputs": [
        {
          "output_type": "execute_result",
          "data": {
            "text/plain": [
              "(352, 5)"
            ]
          },
          "metadata": {},
          "execution_count": 3
        }
      ]
    },
    {
      "cell_type": "markdown",
      "source": [
        "## REMOVA colunas desnecessárias se houver. Remova colunas com NAN."
      ],
      "metadata": {
        "id": "w-eqk9UiY8kJ"
      }
    },
    {
      "cell_type": "code",
      "source": [
        "df = df.dropna()\n",
        "df.info()"
      ],
      "metadata": {
        "id": "9F7tenGe8NDE",
        "colab": {
          "base_uri": "https://localhost:8080/"
        },
        "outputId": "740623ca-b4d5-4693-cc0a-c577a0f4006a"
      },
      "execution_count": null,
      "outputs": [
        {
          "output_type": "stream",
          "name": "stdout",
          "text": [
            "<class 'pandas.core.frame.DataFrame'>\n",
            "Int64Index: 158 entries, 0 to 284\n",
            "Data columns (total 5 columns):\n",
            " #   Column     Non-Null Count  Dtype  \n",
            "---  ------     --------------  -----  \n",
            " 0   id         158 non-null    int64  \n",
            " 1   Star_name  158 non-null    object \n",
            " 2   Distance   158 non-null    float64\n",
            " 3   Mass       158 non-null    object \n",
            " 4   Radius     158 non-null    float64\n",
            "dtypes: float64(2), int64(1), object(2)\n",
            "memory usage: 7.4+ KB\n"
          ]
        }
      ]
    },
    {
      "cell_type": "code",
      "source": [
        "df.shape"
      ],
      "metadata": {
        "colab": {
          "base_uri": "https://localhost:8080/"
        },
        "id": "q2BTLpNZDn60",
        "outputId": "4786f508-0c90-4289-df08-faadb7c86a0f"
      },
      "execution_count": null,
      "outputs": [
        {
          "output_type": "execute_result",
          "data": {
            "text/plain": [
              "(158, 5)"
            ]
          },
          "metadata": {},
          "execution_count": 5
        }
      ]
    },
    {
      "cell_type": "markdown",
      "source": [
        "## Remova TODOS os caracteres especiais e converta para o tipo correto\n",
        "\n",
        "Observe os **dados das estrelas anãs** e remova todos os caracteres especiais.\n",
        "\n",
        "Alguns dos exemplos destacados abaixo:\n",
        "\n",
        "*Observação: os dados foram coletados da página da Wikipedia e podem mudar no futuro. Portanto, os dados podem variar!*\n",
        "\n",
        "*Isso pode levar a diferenças nas etapas de processamento de dados também!*\n",
        "\n",
        "<img src=\"https://s3-whjr-curriculum-uploads.whjr.online/595398f0-5d0b-475f-ab37-462599e70b4f.png\" width=600>"
      ],
      "metadata": {
        "id": "sP7caEkeLYSN"
      }
    },
    {
      "cell_type": "code",
      "source": [
        "df.Mass = df.Mass.str.replace('[^a-zA-Z0-9]', '').astype('float')"
      ],
      "metadata": {
        "id": "Yz9gRmZu8Pde",
        "colab": {
          "base_uri": "https://localhost:8080/"
        },
        "outputId": "8367f553-4abb-44ef-b8c1-d030a51e90cf"
      },
      "execution_count": null,
      "outputs": [
        {
          "output_type": "stream",
          "name": "stderr",
          "text": [
            "/usr/local/lib/python3.7/dist-packages/ipykernel_launcher.py:1: FutureWarning: The default value of regex will change from True to False in a future version.\n",
            "  \"\"\"Entry point for launching an IPython kernel.\n"
          ]
        }
      ]
    },
    {
      "cell_type": "markdown",
      "source": [
        "## Atualize as unidades de raio e massa"
      ],
      "metadata": {
        "id": "t9qGFOkfYk_4"
      }
    },
    {
      "cell_type": "code",
      "source": [
        "df[\"Radius\"] = df[\"Radius\"]*(0.102763)"
      ],
      "metadata": {
        "id": "vCbPIIJyLXAI"
      },
      "execution_count": null,
      "outputs": []
    },
    {
      "cell_type": "code",
      "source": [
        "df[\"Mass\"] = df[\"Mass\"]*(0.000954588)"
      ],
      "metadata": {
        "id": "yVyfNAEfMgzG"
      },
      "execution_count": null,
      "outputs": []
    },
    {
      "cell_type": "code",
      "source": [
        "df.info()"
      ],
      "metadata": {
        "colab": {
          "base_uri": "https://localhost:8080/"
        },
        "id": "QYjbCz8JGyWN",
        "outputId": "23e1f980-6795-4380-8d44-780cac10fe6a"
      },
      "execution_count": null,
      "outputs": [
        {
          "output_type": "stream",
          "name": "stdout",
          "text": [
            "<class 'pandas.core.frame.DataFrame'>\n",
            "Int64Index: 158 entries, 0 to 284\n",
            "Data columns (total 5 columns):\n",
            " #   Column     Non-Null Count  Dtype  \n",
            "---  ------     --------------  -----  \n",
            " 0   id         158 non-null    int64  \n",
            " 1   Star_name  158 non-null    object \n",
            " 2   Distance   158 non-null    float64\n",
            " 3   Mass       158 non-null    float64\n",
            " 4   Radius     158 non-null    float64\n",
            "dtypes: float64(3), int64(1), object(1)\n",
            "memory usage: 7.4+ KB\n"
          ]
        }
      ]
    },
    {
      "cell_type": "markdown",
      "source": [
        "## Converta para CSV"
      ],
      "metadata": {
        "id": "QocK0rmHZQjJ"
      }
    },
    {
      "cell_type": "code",
      "source": [
        "df.to_csv(\"unit_converted_stars.csv\")\n",
        "df.dtypes"
      ],
      "metadata": {
        "id": "COHwOXtF8SIt",
        "colab": {
          "base_uri": "https://localhost:8080/"
        },
        "outputId": "3661d87e-62c6-4529-8b94-99b057efdb3e"
      },
      "execution_count": null,
      "outputs": [
        {
          "output_type": "execute_result",
          "data": {
            "text/plain": [
              "id             int64\n",
              "Star_name     object\n",
              "Distance     float64\n",
              "Mass         float64\n",
              "Radius       float64\n",
              "dtype: object"
            ]
          },
          "metadata": {},
          "execution_count": 10
        }
      ]
    },
    {
      "cell_type": "markdown",
      "source": [
        "## Baixe o CSV"
      ],
      "metadata": {
        "id": "8GaYbC4nZqYL"
      }
    },
    {
      "cell_type": "code",
      "source": [
        "# from google.colab import files\n",
        "# files.download(\"unit_converted_stars.csv\")"
      ],
      "metadata": {
        "id": "JHSyFEVjZcQU"
      },
      "execution_count": null,
      "outputs": []
    },
    {
      "cell_type": "markdown",
      "source": [
        "# MESCLE "
      ],
      "metadata": {
        "id": "vXYDmvD28sTW"
      }
    },
    {
      "cell_type": "code",
      "source": [
        "import csv\n",
        "import pandas as pd\n",
        "\n",
        "file1 = '/content/PRO_1-1_C129_StarsDatasetCSVs/bright_stars.csv'\n",
        "file2 = '/content/PRO_1-1_C129_StarsDatasetCSVs/unit_converted_stars.csv'\n",
        "\n",
        "d1 = []\n",
        "d2 = []\n",
        "with open(file1,'r',encoding='utf8') as f:\n",
        "    csv_reader =csv.reader(f)\n",
        "    \n",
        "    for i in csv_reader:\n",
        "        d1.append(i)\n",
        "        \n",
        "with open(file2,'r',encoding='utf8') as f:\n",
        "    csv_reader = csv.reader(f)\n",
        "    \n",
        "    for i in csv_reader:\n",
        "        d2.append(i)\n",
        "\n",
        "h1 = d1[0]\n",
        "h2 = d2[0]\n",
        "\n",
        "p_d1 = d1[1:]\n",
        "p_d2 = d2[1:]\n",
        "\n",
        "h = h1+h2\n",
        "\n",
        "p_d =[]\n",
        "\n",
        "for i in p_d1:\n",
        "    p_d.append(i)\n",
        "for j in p_d2:\n",
        "    p_d.append(j)"
      ],
      "metadata": {
        "id": "Y8V-jVCVVJxe"
      },
      "execution_count": null,
      "outputs": []
    },
    {
      "cell_type": "code",
      "source": [
        "with open(\"total_stars.csv\",'w',encoding='utf8') as f:\n",
        "    csvwriter = csv.writer(f)\n",
        "    csvwriter.writerow(h)   \n",
        "    csvwriter.writerows(p_d)\n",
        "    \n",
        "df = pd.read_csv('total_stars.csv')\n",
        "df.tail(8)"
      ],
      "metadata": {
        "colab": {
          "base_uri": "https://localhost:8080/",
          "height": 300
        },
        "id": "9hNfytMdVZCx",
        "outputId": "fe59a584-9e01-4308-ecc6-7c1fa4934a54"
      },
      "execution_count": null,
      "outputs": [
        {
          "output_type": "execute_result",
          "data": {
            "text/plain": [
              "      id                Star_name Distance                  Mass  \\\n",
              "247  150  2MASS J23224684-3133231     56.0           0.022910112   \n",
              "248  151  2MASS J23225299-6151275    148.0           0.016227996   \n",
              "249  152  2MASS J23515044-2537367     67.0           0.084003744   \n",
              "250  153   2MASSI J2356547-155310     74.0            0.07636704   \n",
              "251  154           WISE 0410+1502     20.0           0.005727528   \n",
              "252  155          WISE 0458+6434A     35.9  0.014318820000000001   \n",
              "253  156          WISE 0458+6434B     35.9            0.00954588   \n",
              "254  157           WISE 1405+5534     25.3  0.028637640000000002   \n",
              "\n",
              "                  Radius Luminosity  Unnamed: 6  Star_name.1  Distance.1  \\\n",
              "247  0.14284056999999997        NaN         NaN          NaN         NaN   \n",
              "248           0.16339317        NaN         NaN          NaN         NaN   \n",
              "249  0.11920507999999998        NaN         NaN          NaN         NaN   \n",
              "250  0.11201167000000001        NaN         NaN          NaN         NaN   \n",
              "251  0.12023270999999998        NaN         NaN          NaN         NaN   \n",
              "252            0.4316046        NaN         NaN          NaN         NaN   \n",
              "253  0.39049939999999994        NaN         NaN          NaN         NaN   \n",
              "254           0.08837618        NaN         NaN          NaN         NaN   \n",
              "\n",
              "     Mass.1  Radius.1  \n",
              "247     NaN       NaN  \n",
              "248     NaN       NaN  \n",
              "249     NaN       NaN  \n",
              "250     NaN       NaN  \n",
              "251     NaN       NaN  \n",
              "252     NaN       NaN  \n",
              "253     NaN       NaN  \n",
              "254     NaN       NaN  "
            ],
            "text/html": [
              "\n",
              "  <div id=\"df-11429e7d-5d2f-4d42-a094-3609d6d24ed2\">\n",
              "    <div class=\"colab-df-container\">\n",
              "      <div>\n",
              "<style scoped>\n",
              "    .dataframe tbody tr th:only-of-type {\n",
              "        vertical-align: middle;\n",
              "    }\n",
              "\n",
              "    .dataframe tbody tr th {\n",
              "        vertical-align: top;\n",
              "    }\n",
              "\n",
              "    .dataframe thead th {\n",
              "        text-align: right;\n",
              "    }\n",
              "</style>\n",
              "<table border=\"1\" class=\"dataframe\">\n",
              "  <thead>\n",
              "    <tr style=\"text-align: right;\">\n",
              "      <th></th>\n",
              "      <th>id</th>\n",
              "      <th>Star_name</th>\n",
              "      <th>Distance</th>\n",
              "      <th>Mass</th>\n",
              "      <th>Radius</th>\n",
              "      <th>Luminosity</th>\n",
              "      <th>Unnamed: 6</th>\n",
              "      <th>Star_name.1</th>\n",
              "      <th>Distance.1</th>\n",
              "      <th>Mass.1</th>\n",
              "      <th>Radius.1</th>\n",
              "    </tr>\n",
              "  </thead>\n",
              "  <tbody>\n",
              "    <tr>\n",
              "      <th>247</th>\n",
              "      <td>150</td>\n",
              "      <td>2MASS J23224684-3133231</td>\n",
              "      <td>56.0</td>\n",
              "      <td>0.022910112</td>\n",
              "      <td>0.14284056999999997</td>\n",
              "      <td>NaN</td>\n",
              "      <td>NaN</td>\n",
              "      <td>NaN</td>\n",
              "      <td>NaN</td>\n",
              "      <td>NaN</td>\n",
              "      <td>NaN</td>\n",
              "    </tr>\n",
              "    <tr>\n",
              "      <th>248</th>\n",
              "      <td>151</td>\n",
              "      <td>2MASS J23225299-6151275</td>\n",
              "      <td>148.0</td>\n",
              "      <td>0.016227996</td>\n",
              "      <td>0.16339317</td>\n",
              "      <td>NaN</td>\n",
              "      <td>NaN</td>\n",
              "      <td>NaN</td>\n",
              "      <td>NaN</td>\n",
              "      <td>NaN</td>\n",
              "      <td>NaN</td>\n",
              "    </tr>\n",
              "    <tr>\n",
              "      <th>249</th>\n",
              "      <td>152</td>\n",
              "      <td>2MASS J23515044-2537367</td>\n",
              "      <td>67.0</td>\n",
              "      <td>0.084003744</td>\n",
              "      <td>0.11920507999999998</td>\n",
              "      <td>NaN</td>\n",
              "      <td>NaN</td>\n",
              "      <td>NaN</td>\n",
              "      <td>NaN</td>\n",
              "      <td>NaN</td>\n",
              "      <td>NaN</td>\n",
              "    </tr>\n",
              "    <tr>\n",
              "      <th>250</th>\n",
              "      <td>153</td>\n",
              "      <td>2MASSI J2356547-155310</td>\n",
              "      <td>74.0</td>\n",
              "      <td>0.07636704</td>\n",
              "      <td>0.11201167000000001</td>\n",
              "      <td>NaN</td>\n",
              "      <td>NaN</td>\n",
              "      <td>NaN</td>\n",
              "      <td>NaN</td>\n",
              "      <td>NaN</td>\n",
              "      <td>NaN</td>\n",
              "    </tr>\n",
              "    <tr>\n",
              "      <th>251</th>\n",
              "      <td>154</td>\n",
              "      <td>WISE 0410+1502</td>\n",
              "      <td>20.0</td>\n",
              "      <td>0.005727528</td>\n",
              "      <td>0.12023270999999998</td>\n",
              "      <td>NaN</td>\n",
              "      <td>NaN</td>\n",
              "      <td>NaN</td>\n",
              "      <td>NaN</td>\n",
              "      <td>NaN</td>\n",
              "      <td>NaN</td>\n",
              "    </tr>\n",
              "    <tr>\n",
              "      <th>252</th>\n",
              "      <td>155</td>\n",
              "      <td>WISE 0458+6434A</td>\n",
              "      <td>35.9</td>\n",
              "      <td>0.014318820000000001</td>\n",
              "      <td>0.4316046</td>\n",
              "      <td>NaN</td>\n",
              "      <td>NaN</td>\n",
              "      <td>NaN</td>\n",
              "      <td>NaN</td>\n",
              "      <td>NaN</td>\n",
              "      <td>NaN</td>\n",
              "    </tr>\n",
              "    <tr>\n",
              "      <th>253</th>\n",
              "      <td>156</td>\n",
              "      <td>WISE 0458+6434B</td>\n",
              "      <td>35.9</td>\n",
              "      <td>0.00954588</td>\n",
              "      <td>0.39049939999999994</td>\n",
              "      <td>NaN</td>\n",
              "      <td>NaN</td>\n",
              "      <td>NaN</td>\n",
              "      <td>NaN</td>\n",
              "      <td>NaN</td>\n",
              "      <td>NaN</td>\n",
              "    </tr>\n",
              "    <tr>\n",
              "      <th>254</th>\n",
              "      <td>157</td>\n",
              "      <td>WISE 1405+5534</td>\n",
              "      <td>25.3</td>\n",
              "      <td>0.028637640000000002</td>\n",
              "      <td>0.08837618</td>\n",
              "      <td>NaN</td>\n",
              "      <td>NaN</td>\n",
              "      <td>NaN</td>\n",
              "      <td>NaN</td>\n",
              "      <td>NaN</td>\n",
              "      <td>NaN</td>\n",
              "    </tr>\n",
              "  </tbody>\n",
              "</table>\n",
              "</div>\n",
              "      <button class=\"colab-df-convert\" onclick=\"convertToInteractive('df-11429e7d-5d2f-4d42-a094-3609d6d24ed2')\"\n",
              "              title=\"Convert this dataframe to an interactive table.\"\n",
              "              style=\"display:none;\">\n",
              "        \n",
              "  <svg xmlns=\"http://www.w3.org/2000/svg\" height=\"24px\"viewBox=\"0 0 24 24\"\n",
              "       width=\"24px\">\n",
              "    <path d=\"M0 0h24v24H0V0z\" fill=\"none\"/>\n",
              "    <path d=\"M18.56 5.44l.94 2.06.94-2.06 2.06-.94-2.06-.94-.94-2.06-.94 2.06-2.06.94zm-11 1L8.5 8.5l.94-2.06 2.06-.94-2.06-.94L8.5 2.5l-.94 2.06-2.06.94zm10 10l.94 2.06.94-2.06 2.06-.94-2.06-.94-.94-2.06-.94 2.06-2.06.94z\"/><path d=\"M17.41 7.96l-1.37-1.37c-.4-.4-.92-.59-1.43-.59-.52 0-1.04.2-1.43.59L10.3 9.45l-7.72 7.72c-.78.78-.78 2.05 0 2.83L4 21.41c.39.39.9.59 1.41.59.51 0 1.02-.2 1.41-.59l7.78-7.78 2.81-2.81c.8-.78.8-2.07 0-2.86zM5.41 20L4 18.59l7.72-7.72 1.47 1.35L5.41 20z\"/>\n",
              "  </svg>\n",
              "      </button>\n",
              "      \n",
              "  <style>\n",
              "    .colab-df-container {\n",
              "      display:flex;\n",
              "      flex-wrap:wrap;\n",
              "      gap: 12px;\n",
              "    }\n",
              "\n",
              "    .colab-df-convert {\n",
              "      background-color: #E8F0FE;\n",
              "      border: none;\n",
              "      border-radius: 50%;\n",
              "      cursor: pointer;\n",
              "      display: none;\n",
              "      fill: #1967D2;\n",
              "      height: 32px;\n",
              "      padding: 0 0 0 0;\n",
              "      width: 32px;\n",
              "    }\n",
              "\n",
              "    .colab-df-convert:hover {\n",
              "      background-color: #E2EBFA;\n",
              "      box-shadow: 0px 1px 2px rgba(60, 64, 67, 0.3), 0px 1px 3px 1px rgba(60, 64, 67, 0.15);\n",
              "      fill: #174EA6;\n",
              "    }\n",
              "\n",
              "    [theme=dark] .colab-df-convert {\n",
              "      background-color: #3B4455;\n",
              "      fill: #D2E3FC;\n",
              "    }\n",
              "\n",
              "    [theme=dark] .colab-df-convert:hover {\n",
              "      background-color: #434B5C;\n",
              "      box-shadow: 0px 1px 3px 1px rgba(0, 0, 0, 0.15);\n",
              "      filter: drop-shadow(0px 1px 2px rgba(0, 0, 0, 0.3));\n",
              "      fill: #FFFFFF;\n",
              "    }\n",
              "  </style>\n",
              "\n",
              "      <script>\n",
              "        const buttonEl =\n",
              "          document.querySelector('#df-11429e7d-5d2f-4d42-a094-3609d6d24ed2 button.colab-df-convert');\n",
              "        buttonEl.style.display =\n",
              "          google.colab.kernel.accessAllowed ? 'block' : 'none';\n",
              "\n",
              "        async function convertToInteractive(key) {\n",
              "          const element = document.querySelector('#df-11429e7d-5d2f-4d42-a094-3609d6d24ed2');\n",
              "          const dataTable =\n",
              "            await google.colab.kernel.invokeFunction('convertToInteractive',\n",
              "                                                     [key], {});\n",
              "          if (!dataTable) return;\n",
              "\n",
              "          const docLinkHtml = 'Like what you see? Visit the ' +\n",
              "            '<a target=\"_blank\" href=https://colab.research.google.com/notebooks/data_table.ipynb>data table notebook</a>'\n",
              "            + ' to learn more about interactive tables.';\n",
              "          element.innerHTML = '';\n",
              "          dataTable['output_type'] = 'display_data';\n",
              "          await google.colab.output.renderOutput(dataTable, element);\n",
              "          const docLink = document.createElement('div');\n",
              "          docLink.innerHTML = docLinkHtml;\n",
              "          element.appendChild(docLink);\n",
              "        }\n",
              "      </script>\n",
              "    </div>\n",
              "  </div>\n",
              "  "
            ]
          },
          "metadata": {},
          "execution_count": 13
        }
      ]
    }
  ]
}